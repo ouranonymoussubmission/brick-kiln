{
 "cells": [
  {
   "cell_type": "markdown",
   "metadata": {},
   "source": [
    "#### Imports"
   ]
  },
  {
   "cell_type": "code",
   "execution_count": 1,
   "metadata": {},
   "outputs": [
    {
     "name": "stderr",
     "output_type": "stream",
     "text": [
      "2023-08-12 18:51:25.354619: I tensorflow/core/platform/cpu_feature_guard.cc:183] This TensorFlow binary is optimized to use available CPU instructions in performance-critical operations.\n",
      "To enable the following instructions: SSE3 SSE4.1 SSE4.2 AVX, in other operations, rebuild TensorFlow with the appropriate compiler flags.\n"
     ]
    }
   ],
   "source": [
    "import os\n",
    "import random\n",
    "import numpy as np\n",
    "import tensorflow as tf\n",
    "from utils import *\n",
    "\n",
    "np.random.seed(0)\n",
    "random.seed(0)\n",
    "tf.random.set_seed(0)"
   ]
  },
  {
   "cell_type": "code",
   "execution_count": 2,
   "metadata": {},
   "outputs": [],
   "source": [
    "import pandas as pd\n",
    "from tqdm import tqdm\n",
    "from sklearn.metrics import precision_score, recall_score, f1_score\n",
    "from sklearn.model_selection import train_test_split"
   ]
  },
  {
   "cell_type": "markdown",
   "metadata": {},
   "source": [
    "#### GPU settings"
   ]
  },
  {
   "cell_type": "code",
   "execution_count": 3,
   "metadata": {},
   "outputs": [],
   "source": [
    "os.environ[\"CUDA_VISIBLE_DEVICES\"] = str(0) \n",
    "os.environ['TF_CPP_MIN_LOG_LEVEL'] = '1' #comment this while debugging"
   ]
  },
  {
   "cell_type": "markdown",
   "metadata": {},
   "source": [
    "#### Dataset curator"
   ]
  },
  {
   "cell_type": "code",
   "execution_count": 4,
   "metadata": {},
   "outputs": [],
   "source": [
    "def tts_bangladesh():\n",
    "    train_file_path = 'data/ban_train.hdf5' # Replace wih your own path\n",
    "    test_file_path = 'data/ban_val.hdf5'    # Replace wih your own path\n",
    "    \n",
    "    X_train, Y_train = load_hdf5_data(train_file_path)\n",
    "    X_test, Y_test = load_hdf5_data(test_file_path)\n",
    "    \n",
    "    X_train, X_pool, Y_train, Y_pool = train_test_split(X_train, Y_train, test_size=0.9, stratify=Y_train, random_state=0)\n",
    "  \n",
    "    X_train = np.array(imgs_input_fn(X_train))\n",
    "    X_pool = np.array(imgs_input_fn(X_pool))\n",
    "    X_test = np.array(imgs_input_fn(X_test))\n",
    "    \n",
    "    return X_train, X_pool, X_test, Y_train, Y_pool, Y_test"
   ]
  },
  {
   "cell_type": "code",
   "execution_count": 5,
   "metadata": {},
   "outputs": [],
   "source": [
    "def tts_india():\n",
    "    file_path = 'data/delhi_NCR.h5' # replace with the path to the dataset\n",
    "    \n",
    "    X_train, Y_train = load_hdf5_data(file_path)\n",
    "    \n",
    "    X_train, X_test, Y_train, Y_test = train_test_split(X_train, Y_train, test_size=0.2, stratify=Y_train, random_state=0)\n",
    "    X_train, X_pool, Y_train, Y_pool = train_test_split(X_train, Y_train, test_size=0.99, stratify = Y_train, random_state=0)\n",
    "  \n",
    "    X_train = np.array(imgs_input_fn(X_train))\n",
    "    X_pool = np.array(imgs_input_fn(X_pool))\n",
    "    X_test = np.array(imgs_input_fn(X_test))\n",
    "\n",
    "    return X_train, X_pool, X_test, Y_train, Y_pool, Y_test"
   ]
  },
  {
   "cell_type": "code",
   "execution_count": 6,
   "metadata": {},
   "outputs": [],
   "source": [
    "def tts_transfer():\n",
    "    india_file_path = 'data/delhi_NCR.h5' #replace with the path to dataset\n",
    "    bangladesh_file_path = 'data/ban_train.hdf5' #replace with the path to dataset\n",
    "    \n",
    "    X_train_bangladesh, Y_train_bangladesh = load_hdf5_data(bangladesh_file_path)\n",
    "    X_train_india, Y_train_india = load_hdf5_data(india_file_path)\n",
    "\n",
    "    X_train, X_test, Y_train, Y_test = train_test_split(X_train_india, Y_train_india, test_size=0.2, stratify=Y_train_india, random_state=0)\n",
    "    X_train, X_pool, Y_train, Y_pool = train_test_split(X_train, Y_train, test_size=0.99, stratify = Y_train, random_state=0)\n",
    "  \n",
    "    X_train = np.array(imgs_input_fn(np.concatenate((X_train, X_train_bangladesh), axis = 0)))\n",
    "    X_pool = np.array(imgs_input_fn(X_pool))\n",
    "    X_test = np.array(imgs_input_fn(X_test))\n",
    "    \n",
    "    return X_train, X_pool, X_test, Y_train, Y_pool, Y_test"
   ]
  },
  {
   "cell_type": "markdown",
   "metadata": {},
   "source": [
    "#### Acquisition Functions"
   ]
  },
  {
   "cell_type": "code",
   "execution_count": 7,
   "metadata": {},
   "outputs": [],
   "source": [
    "def bald_score(predictions):\n",
    "    expected_entropy = -np.sum(np.mean(predictions, axis = 0)*np.log2(np.mean(predictions, axis = 0)), axis = 1)\n",
    "    predictive_entropy = np.mean(-np.sum(predictions*np.log2(predictions), axis = 2), axis = 0)\n",
    "    return abs(expected_entropy-predictive_entropy)"
   ]
  },
  {
   "cell_type": "code",
   "execution_count": 8,
   "metadata": {},
   "outputs": [],
   "source": [
    "def entropy_score(predictions):\n",
    "    entropies = np.mean(-np.sum(predictions * np.log(predictions), axis=2), axis = 0)\n",
    "    return entropies"
   ]
  },
  {
   "cell_type": "markdown",
   "metadata": {},
   "source": [
    "#### Main loop"
   ]
  },
  {
   "cell_type": "code",
   "execution_count": 9,
   "metadata": {},
   "outputs": [],
   "source": [
    "# Active learning loop parameters\n",
    "num_iterations = 100\n",
    "batch_size = 32\n",
    "num_label = 1\n",
    "num_mc_samples = 10"
   ]
  },
  {
   "cell_type": "code",
   "execution_count": 11,
   "metadata": {},
   "outputs": [],
   "source": [
    "def al_loop(entropy, case, num_iterations = 100, batch_size = 32, num_label = 1, num_mc_samples = 10, rand_num = 0):\n",
    "    # Reinitialise model\n",
    "    model = resnet_model(learning_rate=0.00002)\n",
    "\n",
    "    # Creating the required dataset\n",
    "    if(case == \"bangladesh\"):\n",
    "        X_train, X_pool, X_test, Y_train, Y_pool, Y_test = tts_bangladesh()\n",
    "        initial_epoch = 21        \n",
    "        subsequent_epoch = 5        \n",
    "    elif(case == \"india\"):\n",
    "        X_train, X_pool, X_test, Y_train, Y_pool, Y_test = tts_india()\n",
    "        initial_epoch = 100\n",
    "        subsequent_epoch = 5\n",
    "    elif(case == 'transfer'):\n",
    "        X_train, X_pool, X_test, Y_train, Y_pool, Y_test = tts_transfer()\n",
    "        initial_epoch = 18\n",
    "        subsequent_epoch = 4\n",
    "\n",
    "    # Lists to store the test loss and accuracy for each iteration\n",
    "    test_loss_list = []\n",
    "    test_accuracy_list = []\n",
    "    precision_list = []\n",
    "    recall_list = []\n",
    "    f1_score_list = []\n",
    "\n",
    "    a = X_pool.shape[0]\n",
    "    shape = (10, 100)\n",
    "    random_array = np.random.randint(0, a , shape)\n",
    "\n",
    "    # save_folder = \"acquired_\"\n",
    "    # save_folder += case\n",
    "    # save_folder += entropy\n",
    "    # if not os.path.exists(save_folder):\n",
    "    #     os.makedirs(save_folder)\n",
    "\n",
    "    for iteration in tqdm(range(num_iterations)):\n",
    "        print(f\"Iteration {iteration + 1}\")\n",
    "        \n",
    "        # Train the model on the labeled data\n",
    "        if(iteration==0):\n",
    "            model.fit(X_train, Y_train, batch_size=batch_size, epochs=initial_epoch, verbose=0)\n",
    "        else:\n",
    "            model.fit(X_train, Y_train, batch_size=batch_size, epochs=subsequent_epoch, verbose=0)\n",
    "\n",
    "        # Evaluate the model on the test set and store the metrics\n",
    "        test_loss, test_accuracy = model.evaluate(X_test, Y_test, verbose=0)\n",
    "        test_loss_list.append(test_loss)\n",
    "        test_accuracy_list.append(test_accuracy)\n",
    "        \n",
    "        # # Get predictions on the test set\n",
    "        Y_pred = np.round(model.predict(X_test))\n",
    "\n",
    "        # Calculate precision and recall for the test set\n",
    "        precision = precision_score(Y_test, Y_pred)\n",
    "        recall = recall_score(Y_test, Y_pred)\n",
    "        f1 = f1_score(Y_test,Y_pred)\n",
    "\n",
    "        precision_list.append(precision)\n",
    "        recall_list.append(recall)\n",
    "        f1_score_list.append(f1)\n",
    "\n",
    "        # Forward passes\n",
    "        \n",
    "        predictions = [model(X_pool, training = True) for _ in range(num_mc_samples)]\n",
    "        predictions = np.array(predictions)\n",
    "        complementary_predictions = 1 - predictions\n",
    "        predictions = np.concatenate((predictions, complementary_predictions), axis=2)\n",
    "        selected_indices = [random_array[rand_num][iteration]]\n",
    "\n",
    "        if(entropy == 'bald'):\n",
    "            scores = bald_score(predictions)\n",
    "            pool_indices = np.arange(len(X_pool))\n",
    "            selected_indices = pool_indices[np.argsort(scores)][-num_label:]\n",
    "        elif entropy == 'entropy':\n",
    "            scores = entropy_score(predictions)\n",
    "            pool_indices = np.arange(len(X_pool))\n",
    "            selected_indices = pool_indices[np.argsort(scores)][-num_label:]\n",
    "\n",
    "        # Move the selected samples from the pool to the labeled set\n",
    "        X_train = np.concatenate((X_train, X_pool[selected_indices]), axis=0)\n",
    "        Y_train = np.concatenate((Y_train, Y_pool[selected_indices]), axis=0)\n",
    "\n",
    "        # Save the selected images\n",
    "        \n",
    "        # image_data = X_pool[selected_indices[0]]  # Assuming X_pool contains image data\n",
    "        # image = Image.fromarray((image_data))\n",
    "        # selected_image_path = os.path.join(save_folder, f\"iteration{iteration}.jpg\")\n",
    "        # image.save(selected_image_path)\n",
    "        \n",
    "        # Remove the selected samples from the pool\n",
    "        if(entropy!='random'):\n",
    "            X_pool = np.delete(X_pool, selected_indices, axis=0)\n",
    "            Y_pool = np.delete(Y_pool, selected_indices, axis=0)\n",
    "        \n",
    "        print(\"Precision: \",precision)\n",
    "        print(\"Recall: \",recall)\n",
    "        print(\"Accuracy: \",test_accuracy)\n",
    "    model.save('ALBald_model.h5')\n",
    "\n",
    "\n",
    "    # Print the metrics at each iteration\n",
    "    for i, (loss, accuracy, precision, recall) in enumerate(zip(test_loss_list, test_accuracy_list, precision_list, recall_list), 1):\n",
    "        print(f\"Iteration {i}: Test Loss = {loss:.4f}, Test Accuracy = {accuracy:.4f}, Precision = {precision:.4f}, Recall = {recall:.4f}\")\n",
    "\n",
    "    d1 = pd.DataFrame(precision_list)\n",
    "    d2 = pd.DataFrame(recall_list)\n",
    "    d3 = pd.DataFrame(test_accuracy_list)\n",
    "    d4 = pd.DataFrame(f1_score_list)\n",
    "\n",
    "    # Create a directory named \"bald\"\n",
    "    os.makedirs(f\"{case}_{entropy}\", exist_ok=True)\n",
    "\n",
    "    # Save DataFrames to CSV files in the \"bald\" directory\n",
    "    d1.to_csv(f\"{case}_{entropy}/precision_{rand_num}.csv\", index=False)\n",
    "    d2.to_csv(f\"{case}_{entropy}/recall_{rand_num}.csv\", index=False)\n",
    "    d3.to_csv(f\"{case}_{entropy}/test_accuracy_{rand_num}.csv\", index=False)\n",
    "    d4.to_csv(f\"{case}_{entropy}/f1_score_{rand_num}.csv\", index=False)\n",
    "\n",
    "    return test_loss_list, test_accuracy_list, precision_list, recall_list, f1_score_list"
   ]
  },
  {
   "cell_type": "code",
   "execution_count": 12,
   "metadata": {},
   "outputs": [
    {
     "name": "stdout",
     "output_type": "stream",
     "text": [
      "Images shape:  (2762, 256, 256, 3) Images dtype:  uint8\n",
      "Labels shape:  (2762,) Labels dtype:  float64\n"
     ]
    },
    {
     "name": "stderr",
     "output_type": "stream",
     "text": [
      "  0%|          | 0/100 [00:00<?, ?it/s]"
     ]
    },
    {
     "name": "stdout",
     "output_type": "stream",
     "text": [
      "Iteration 1\n"
     ]
    },
    {
     "name": "stderr",
     "output_type": "stream",
     "text": [
      "2023-08-12 18:51:39.811827: I tensorflow/compiler/xla/stream_executor/cuda/cuda_dnn.cc:424] Loaded cuDNN version 8903\n",
      "2023-08-12 18:51:40.020161: I tensorflow/compiler/xla/stream_executor/cuda/cuda_blas.cc:655] TensorFloat-32 will be used for the matrix multiplication. This will only be logged once.\n",
      "2023-08-12 18:51:40.468011: I tensorflow/compiler/xla/service/service.cc:169] XLA service 0x7f2c8941bf90 initialized for platform CUDA (this does not guarantee that XLA will be used). Devices:\n",
      "2023-08-12 18:51:40.468076: I tensorflow/compiler/xla/service/service.cc:177]   StreamExecutor device (0): NVIDIA A100-SXM4-80GB, Compute Capability 8.0\n",
      "2023-08-12 18:51:40.473720: I tensorflow/compiler/mlir/tensorflow/utils/dump_mlir_util.cc:269] disabling MLIR crash reproducer, set env var `MLIR_CRASH_REPRODUCER_DIRECTORY` to enable.\n",
      "2023-08-12 18:51:40.646922: I ./tensorflow/compiler/jit/device_compiler.h:180] Compiled cluster using XLA!  This line is logged at most once for the lifetime of the process.\n"
     ]
    },
    {
     "name": "stdout",
     "output_type": "stream",
     "text": [
      "18/18 [==============================] - 1s 14ms/step\n"
     ]
    },
    {
     "name": "stderr",
     "output_type": "stream",
     "text": [
      "  1%|          | 1/100 [00:32<53:11, 32.24s/it]"
     ]
    },
    {
     "name": "stdout",
     "output_type": "stream",
     "text": [
      "Precision:  0.7850467289719626\n",
      "Recall:  0.5490196078431373\n",
      "Accuracy:  0.8336347341537476\n",
      "Iteration 2\n",
      "18/18 [==============================] - 0s 15ms/step\n"
     ]
    },
    {
     "name": "stderr",
     "output_type": "stream",
     "text": [
      "  2%|▏         | 2/100 [00:58<46:46, 28.64s/it]"
     ]
    },
    {
     "name": "stdout",
     "output_type": "stream",
     "text": [
      "Precision:  0.8034188034188035\n",
      "Recall:  0.6143790849673203\n",
      "Accuracy:  0.8517178893089294\n",
      "Iteration 3\n",
      "18/18 [==============================] - 0s 14ms/step\n"
     ]
    },
    {
     "name": "stderr",
     "output_type": "stream",
     "text": [
      "  3%|▎         | 3/100 [01:24<44:22, 27.45s/it]"
     ]
    },
    {
     "name": "stdout",
     "output_type": "stream",
     "text": [
      "Precision:  0.7697841726618705\n",
      "Recall:  0.6993464052287581\n",
      "Accuracy:  0.8589511513710022\n",
      "Iteration 4\n",
      "18/18 [==============================] - 0s 14ms/step\n"
     ]
    },
    {
     "name": "stderr",
     "output_type": "stream",
     "text": [
      "  4%|▍         | 4/100 [01:50<42:59, 26.87s/it]"
     ]
    },
    {
     "name": "stdout",
     "output_type": "stream",
     "text": [
      "Precision:  0.7349397590361446\n",
      "Recall:  0.7973856209150327\n",
      "Accuracy:  0.8643761277198792\n",
      "Iteration 5\n",
      "18/18 [==============================] - 0s 15ms/step\n"
     ]
    },
    {
     "name": "stderr",
     "output_type": "stream",
     "text": [
      "  5%|▌         | 5/100 [02:16<42:01, 26.55s/it]"
     ]
    },
    {
     "name": "stdout",
     "output_type": "stream",
     "text": [
      "Precision:  0.7166666666666667\n",
      "Recall:  0.8431372549019608\n",
      "Accuracy:  0.8643761277198792\n",
      "Iteration 6\n",
      "18/18 [==============================] - 0s 14ms/step\n"
     ]
    },
    {
     "name": "stderr",
     "output_type": "stream",
     "text": [
      "  6%|▌         | 6/100 [02:42<41:16, 26.35s/it]"
     ]
    },
    {
     "name": "stdout",
     "output_type": "stream",
     "text": [
      "Precision:  0.7166666666666667\n",
      "Recall:  0.8431372549019608\n",
      "Accuracy:  0.8643761277198792\n",
      "Iteration 7\n",
      "18/18 [==============================] - 0s 15ms/step\n"
     ]
    },
    {
     "name": "stderr",
     "output_type": "stream",
     "text": [
      "  7%|▋         | 7/100 [03:08<40:41, 26.25s/it]"
     ]
    },
    {
     "name": "stdout",
     "output_type": "stream",
     "text": [
      "Precision:  0.75\n",
      "Recall:  0.8235294117647058\n",
      "Accuracy:  0.8752260208129883\n",
      "Iteration 8\n",
      "18/18 [==============================] - 0s 14ms/step\n"
     ]
    },
    {
     "name": "stderr",
     "output_type": "stream",
     "text": [
      "  8%|▊         | 8/100 [03:34<40:09, 26.19s/it]"
     ]
    },
    {
     "name": "stdout",
     "output_type": "stream",
     "text": [
      "Precision:  0.7969924812030075\n",
      "Recall:  0.6928104575163399\n",
      "Accuracy:  0.8661844730377197\n",
      "Iteration 9\n",
      "18/18 [==============================] - 0s 14ms/step\n"
     ]
    },
    {
     "name": "stderr",
     "output_type": "stream",
     "text": [
      "  9%|▉         | 9/100 [04:00<39:42, 26.18s/it]"
     ]
    },
    {
     "name": "stdout",
     "output_type": "stream",
     "text": [
      "Precision:  0.8130081300813008\n",
      "Recall:  0.6535947712418301\n",
      "Accuracy:  0.8625677824020386\n",
      "Iteration 10\n",
      "18/18 [==============================] - 0s 15ms/step\n"
     ]
    },
    {
     "name": "stderr",
     "output_type": "stream",
     "text": [
      " 10%|█         | 10/100 [04:26<39:14, 26.17s/it]"
     ]
    },
    {
     "name": "stdout",
     "output_type": "stream",
     "text": [
      "Precision:  0.8095238095238095\n",
      "Recall:  0.6666666666666666\n",
      "Accuracy:  0.8643761277198792\n",
      "Iteration 11\n",
      "18/18 [==============================] - 0s 15ms/step\n"
     ]
    },
    {
     "name": "stderr",
     "output_type": "stream",
     "text": [
      " 11%|█         | 11/100 [04:52<38:37, 26.04s/it]"
     ]
    },
    {
     "name": "stdout",
     "output_type": "stream",
     "text": [
      "Precision:  0.819672131147541\n",
      "Recall:  0.6535947712418301\n",
      "Accuracy:  0.8643761277198792\n",
      "Iteration 12\n",
      "18/18 [==============================] - 0s 14ms/step\n"
     ]
    },
    {
     "name": "stderr",
     "output_type": "stream",
     "text": [
      " 12%|█▏        | 12/100 [05:18<38:06, 25.99s/it]"
     ]
    },
    {
     "name": "stdout",
     "output_type": "stream",
     "text": [
      "Precision:  0.88\n",
      "Recall:  0.5751633986928104\n",
      "Accuracy:  0.8607594966888428\n",
      "Iteration 13\n",
      "18/18 [==============================] - 0s 14ms/step\n"
     ]
    },
    {
     "name": "stderr",
     "output_type": "stream",
     "text": [
      " 13%|█▎        | 13/100 [05:44<37:38, 25.96s/it]"
     ]
    },
    {
     "name": "stdout",
     "output_type": "stream",
     "text": [
      "Precision:  0.8910891089108911\n",
      "Recall:  0.5882352941176471\n",
      "Accuracy:  0.8661844730377197\n",
      "Iteration 14\n",
      "18/18 [==============================] - 0s 15ms/step\n"
     ]
    },
    {
     "name": "stderr",
     "output_type": "stream",
     "text": [
      " 14%|█▍        | 14/100 [06:10<37:09, 25.92s/it]"
     ]
    },
    {
     "name": "stdout",
     "output_type": "stream",
     "text": [
      "Precision:  0.9529411764705882\n",
      "Recall:  0.5294117647058824\n",
      "Accuracy:  0.8625677824020386\n",
      "Iteration 15\n",
      "18/18 [==============================] - 0s 15ms/step\n"
     ]
    },
    {
     "name": "stderr",
     "output_type": "stream",
     "text": [
      " 15%|█▌        | 15/100 [06:36<36:47, 25.97s/it]"
     ]
    },
    {
     "name": "stdout",
     "output_type": "stream",
     "text": [
      "Precision:  0.9270833333333334\n",
      "Recall:  0.5816993464052288\n",
      "Accuracy:  0.8716093897819519\n",
      "Iteration 16\n",
      "18/18 [==============================] - 0s 14ms/step\n"
     ]
    },
    {
     "name": "stderr",
     "output_type": "stream",
     "text": [
      " 16%|█▌        | 16/100 [07:02<36:21, 25.97s/it]"
     ]
    },
    {
     "name": "stdout",
     "output_type": "stream",
     "text": [
      "Precision:  0.8484848484848485\n",
      "Recall:  0.7320261437908496\n",
      "Accuracy:  0.8896926045417786\n",
      "Iteration 17\n",
      "18/18 [==============================] - 0s 15ms/step\n"
     ]
    },
    {
     "name": "stderr",
     "output_type": "stream",
     "text": [
      " 17%|█▋        | 17/100 [07:28<35:54, 25.96s/it]"
     ]
    },
    {
     "name": "stdout",
     "output_type": "stream",
     "text": [
      "Precision:  0.8740157480314961\n",
      "Recall:  0.7254901960784313\n",
      "Accuracy:  0.8951175212860107\n",
      "Iteration 18\n",
      "18/18 [==============================] - 0s 14ms/step\n"
     ]
    },
    {
     "name": "stderr",
     "output_type": "stream",
     "text": [
      " 18%|█▊        | 18/100 [07:53<35:27, 25.94s/it]"
     ]
    },
    {
     "name": "stdout",
     "output_type": "stream",
     "text": [
      "Precision:  0.9122807017543859\n",
      "Recall:  0.6797385620915033\n",
      "Accuracy:  0.8933092355728149\n",
      "Iteration 19\n",
      "18/18 [==============================] - 0s 14ms/step\n"
     ]
    },
    {
     "name": "stderr",
     "output_type": "stream",
     "text": [
      " 19%|█▉        | 19/100 [08:19<35:01, 25.95s/it]"
     ]
    },
    {
     "name": "stdout",
     "output_type": "stream",
     "text": [
      "Precision:  0.9029850746268657\n",
      "Recall:  0.7908496732026143\n",
      "Accuracy:  0.9186256527900696\n",
      "Iteration 20\n",
      "18/18 [==============================] - 0s 14ms/step\n"
     ]
    },
    {
     "name": "stderr",
     "output_type": "stream",
     "text": [
      " 20%|██        | 20/100 [08:45<34:29, 25.87s/it]"
     ]
    },
    {
     "name": "stdout",
     "output_type": "stream",
     "text": [
      "Precision:  0.8598726114649682\n",
      "Recall:  0.8823529411764706\n",
      "Accuracy:  0.9276672601699829\n",
      "Iteration 21\n",
      "18/18 [==============================] - 0s 14ms/step\n"
     ]
    },
    {
     "name": "stderr",
     "output_type": "stream",
     "text": [
      " 21%|██        | 21/100 [09:11<34:04, 25.88s/it]"
     ]
    },
    {
     "name": "stdout",
     "output_type": "stream",
     "text": [
      "Precision:  0.8951048951048951\n",
      "Recall:  0.8366013071895425\n",
      "Accuracy:  0.9276672601699829\n",
      "Iteration 22\n",
      "18/18 [==============================] - 0s 14ms/step\n"
     ]
    },
    {
     "name": "stderr",
     "output_type": "stream",
     "text": [
      " 22%|██▏       | 22/100 [09:37<33:37, 25.86s/it]"
     ]
    },
    {
     "name": "stdout",
     "output_type": "stream",
     "text": [
      "Precision:  0.8951048951048951\n",
      "Recall:  0.8366013071895425\n",
      "Accuracy:  0.9276672601699829\n",
      "Iteration 23\n",
      "18/18 [==============================] - 0s 14ms/step\n"
     ]
    },
    {
     "name": "stderr",
     "output_type": "stream",
     "text": [
      " 23%|██▎       | 23/100 [10:03<33:08, 25.83s/it]"
     ]
    },
    {
     "name": "stdout",
     "output_type": "stream",
     "text": [
      "Precision:  0.7932960893854749\n",
      "Recall:  0.9281045751633987\n",
      "Accuracy:  0.9132007360458374\n",
      "Iteration 24\n",
      "18/18 [==============================] - 0s 15ms/step\n"
     ]
    },
    {
     "name": "stderr",
     "output_type": "stream",
     "text": [
      " 24%|██▍       | 24/100 [10:29<32:47, 25.89s/it]"
     ]
    },
    {
     "name": "stdout",
     "output_type": "stream",
     "text": [
      "Precision:  0.8303030303030303\n",
      "Recall:  0.8954248366013072\n",
      "Accuracy:  0.9204339981079102\n",
      "Iteration 25\n",
      "18/18 [==============================] - 0s 14ms/step\n"
     ]
    },
    {
     "name": "stderr",
     "output_type": "stream",
     "text": [
      " 25%|██▌       | 25/100 [10:54<32:19, 25.86s/it]"
     ]
    },
    {
     "name": "stdout",
     "output_type": "stream",
     "text": [
      "Precision:  0.900709219858156\n",
      "Recall:  0.8300653594771242\n",
      "Accuracy:  0.9276672601699829\n",
      "Iteration 26\n",
      "18/18 [==============================] - 0s 14ms/step\n"
     ]
    },
    {
     "name": "stderr",
     "output_type": "stream",
     "text": [
      " 26%|██▌       | 26/100 [11:20<31:53, 25.86s/it]"
     ]
    },
    {
     "name": "stdout",
     "output_type": "stream",
     "text": [
      "Precision:  0.8627450980392157\n",
      "Recall:  0.8627450980392157\n",
      "Accuracy:  0.9240506291389465\n",
      "Iteration 27\n",
      "18/18 [==============================] - 0s 14ms/step\n"
     ]
    },
    {
     "name": "stderr",
     "output_type": "stream",
     "text": [
      " 27%|██▋       | 27/100 [11:46<31:25, 25.83s/it]"
     ]
    },
    {
     "name": "stdout",
     "output_type": "stream",
     "text": [
      "Precision:  0.8525641025641025\n",
      "Recall:  0.869281045751634\n",
      "Accuracy:  0.9222423434257507\n",
      "Iteration 28\n",
      "18/18 [==============================] - 0s 14ms/step\n"
     ]
    },
    {
     "name": "stderr",
     "output_type": "stream",
     "text": [
      " 28%|██▊       | 28/100 [12:12<30:57, 25.80s/it]"
     ]
    },
    {
     "name": "stdout",
     "output_type": "stream",
     "text": [
      "Precision:  0.9044117647058824\n",
      "Recall:  0.803921568627451\n",
      "Accuracy:  0.9222423434257507\n",
      "Iteration 29\n",
      "18/18 [==============================] - 0s 15ms/step\n"
     ]
    },
    {
     "name": "stderr",
     "output_type": "stream",
     "text": [
      " 29%|██▉       | 29/100 [12:38<30:33, 25.83s/it]"
     ]
    },
    {
     "name": "stdout",
     "output_type": "stream",
     "text": [
      "Precision:  0.9663865546218487\n",
      "Recall:  0.7516339869281046\n",
      "Accuracy:  0.9240506291389465\n",
      "Iteration 30\n",
      "18/18 [==============================] - 0s 14ms/step\n"
     ]
    },
    {
     "name": "stderr",
     "output_type": "stream",
     "text": [
      " 30%|███       | 30/100 [13:03<30:06, 25.81s/it]"
     ]
    },
    {
     "name": "stdout",
     "output_type": "stream",
     "text": [
      "Precision:  0.972972972972973\n",
      "Recall:  0.7058823529411765\n",
      "Accuracy:  0.9132007360458374\n",
      "Iteration 31\n",
      "18/18 [==============================] - 0s 14ms/step\n"
     ]
    },
    {
     "name": "stderr",
     "output_type": "stream",
     "text": [
      " 31%|███       | 31/100 [13:29<29:40, 25.80s/it]"
     ]
    },
    {
     "name": "stdout",
     "output_type": "stream",
     "text": [
      "Precision:  0.9724770642201835\n",
      "Recall:  0.6928104575163399\n",
      "Accuracy:  0.909584105014801\n",
      "Iteration 32\n",
      "18/18 [==============================] - 0s 14ms/step\n"
     ]
    },
    {
     "name": "stderr",
     "output_type": "stream",
     "text": [
      " 32%|███▏      | 32/100 [13:55<29:16, 25.84s/it]"
     ]
    },
    {
     "name": "stdout",
     "output_type": "stream",
     "text": [
      "Precision:  0.9307692307692308\n",
      "Recall:  0.7908496732026143\n",
      "Accuracy:  0.9258589744567871\n",
      "Iteration 33\n",
      "18/18 [==============================] - 0s 14ms/step\n"
     ]
    },
    {
     "name": "stderr",
     "output_type": "stream",
     "text": [
      " 33%|███▎      | 33/100 [14:21<28:45, 25.75s/it]"
     ]
    },
    {
     "name": "stdout",
     "output_type": "stream",
     "text": [
      "Precision:  0.8666666666666667\n",
      "Recall:  0.8496732026143791\n",
      "Accuracy:  0.9222423434257507\n",
      "Iteration 34\n",
      "18/18 [==============================] - 0s 15ms/step\n"
     ]
    },
    {
     "name": "stderr",
     "output_type": "stream",
     "text": [
      " 34%|███▍      | 34/100 [14:46<28:18, 25.73s/it]"
     ]
    },
    {
     "name": "stdout",
     "output_type": "stream",
     "text": [
      "Precision:  0.9130434782608695\n",
      "Recall:  0.8235294117647058\n",
      "Accuracy:  0.9294756054878235\n",
      "Iteration 35\n",
      "18/18 [==============================] - 0s 14ms/step\n"
     ]
    },
    {
     "name": "stderr",
     "output_type": "stream",
     "text": [
      " 35%|███▌      | 35/100 [15:12<27:48, 25.67s/it]"
     ]
    },
    {
     "name": "stdout",
     "output_type": "stream",
     "text": [
      "Precision:  0.9020979020979021\n",
      "Recall:  0.8431372549019608\n",
      "Accuracy:  0.9312838912010193\n",
      "Iteration 36\n",
      "18/18 [==============================] - 0s 14ms/step\n"
     ]
    },
    {
     "name": "stderr",
     "output_type": "stream",
     "text": [
      " 36%|███▌      | 36/100 [15:37<27:19, 25.62s/it]"
     ]
    },
    {
     "name": "stdout",
     "output_type": "stream",
     "text": [
      "Precision:  0.920863309352518\n",
      "Recall:  0.8366013071895425\n",
      "Accuracy:  0.9349005222320557\n",
      "Iteration 37\n",
      "18/18 [==============================] - 0s 15ms/step\n"
     ]
    },
    {
     "name": "stderr",
     "output_type": "stream",
     "text": [
      " 37%|███▋      | 37/100 [16:03<26:53, 25.62s/it]"
     ]
    },
    {
     "name": "stdout",
     "output_type": "stream",
     "text": [
      "Precision:  0.9197080291970803\n",
      "Recall:  0.8235294117647058\n",
      "Accuracy:  0.9312838912010193\n",
      "Iteration 38\n",
      "18/18 [==============================] - 0s 14ms/step\n"
     ]
    },
    {
     "name": "stderr",
     "output_type": "stream",
     "text": [
      " 38%|███▊      | 38/100 [16:28<26:25, 25.58s/it]"
     ]
    },
    {
     "name": "stdout",
     "output_type": "stream",
     "text": [
      "Precision:  0.896551724137931\n",
      "Recall:  0.8496732026143791\n",
      "Accuracy:  0.9312838912010193\n",
      "Iteration 39\n",
      "18/18 [==============================] - 0s 14ms/step\n"
     ]
    },
    {
     "name": "stderr",
     "output_type": "stream",
     "text": [
      " 39%|███▉      | 39/100 [16:54<25:58, 25.55s/it]"
     ]
    },
    {
     "name": "stdout",
     "output_type": "stream",
     "text": [
      "Precision:  0.9084507042253521\n",
      "Recall:  0.8431372549019608\n",
      "Accuracy:  0.9330922365188599\n",
      "Iteration 40\n",
      "18/18 [==============================] - 0s 14ms/step\n"
     ]
    },
    {
     "name": "stderr",
     "output_type": "stream",
     "text": [
      " 40%|████      | 40/100 [17:20<25:34, 25.58s/it]"
     ]
    },
    {
     "name": "stdout",
     "output_type": "stream",
     "text": [
      "Precision:  0.95\n",
      "Recall:  0.7450980392156863\n",
      "Accuracy:  0.9186256527900696\n",
      "Iteration 41\n",
      "18/18 [==============================] - 0s 14ms/step\n"
     ]
    },
    {
     "name": "stderr",
     "output_type": "stream",
     "text": [
      " 41%|████      | 41/100 [17:45<25:10, 25.59s/it]"
     ]
    },
    {
     "name": "stdout",
     "output_type": "stream",
     "text": [
      "Precision:  0.9296875\n",
      "Recall:  0.7777777777777778\n",
      "Accuracy:  0.9222423434257507\n",
      "Iteration 42\n",
      "18/18 [==============================] - 0s 14ms/step\n"
     ]
    },
    {
     "name": "stderr",
     "output_type": "stream",
     "text": [
      " 42%|████▏     | 42/100 [18:11<24:43, 25.57s/it]"
     ]
    },
    {
     "name": "stdout",
     "output_type": "stream",
     "text": [
      "Precision:  0.9072847682119205\n",
      "Recall:  0.8954248366013072\n",
      "Accuracy:  0.9457504749298096\n",
      "Iteration 43\n",
      "18/18 [==============================] - 0s 14ms/step\n"
     ]
    },
    {
     "name": "stderr",
     "output_type": "stream",
     "text": [
      " 43%|████▎     | 43/100 [18:37<24:32, 25.83s/it]"
     ]
    },
    {
     "name": "stdout",
     "output_type": "stream",
     "text": [
      "Precision:  0.8819875776397516\n",
      "Recall:  0.9281045751633987\n",
      "Accuracy:  0.9457504749298096\n",
      "Iteration 44\n",
      "18/18 [==============================] - 0s 14ms/step\n"
     ]
    },
    {
     "name": "stderr",
     "output_type": "stream",
     "text": [
      " 44%|████▍     | 44/100 [19:03<24:06, 25.84s/it]"
     ]
    },
    {
     "name": "stdout",
     "output_type": "stream",
     "text": [
      "Precision:  0.9178082191780822\n",
      "Recall:  0.8758169934640523\n",
      "Accuracy:  0.943942129611969\n",
      "Iteration 45\n",
      "18/18 [==============================] - 0s 15ms/step\n"
     ]
    },
    {
     "name": "stderr",
     "output_type": "stream",
     "text": [
      " 45%|████▌     | 45/100 [19:29<23:39, 25.80s/it]"
     ]
    },
    {
     "name": "stdout",
     "output_type": "stream",
     "text": [
      "Precision:  0.9343065693430657\n",
      "Recall:  0.8366013071895425\n",
      "Accuracy:  0.938517153263092\n",
      "Iteration 46\n",
      "18/18 [==============================] - 0s 15ms/step\n"
     ]
    },
    {
     "name": "stderr",
     "output_type": "stream",
     "text": [
      " 46%|████▌     | 46/100 [19:55<23:18, 25.89s/it]"
     ]
    },
    {
     "name": "stdout",
     "output_type": "stream",
     "text": [
      "Precision:  0.9295774647887324\n",
      "Recall:  0.8627450980392157\n",
      "Accuracy:  0.943942129611969\n",
      "Iteration 47\n",
      "18/18 [==============================] - 0s 14ms/step\n"
     ]
    },
    {
     "name": "stderr",
     "output_type": "stream",
     "text": [
      " 47%|████▋     | 47/100 [20:21<22:49, 25.84s/it]"
     ]
    },
    {
     "name": "stdout",
     "output_type": "stream",
     "text": [
      "Precision:  0.9545454545454546\n",
      "Recall:  0.8235294117647058\n",
      "Accuracy:  0.9403254985809326\n",
      "Iteration 48\n",
      "18/18 [==============================] - 0s 14ms/step\n"
     ]
    },
    {
     "name": "stderr",
     "output_type": "stream",
     "text": [
      " 48%|████▊     | 48/100 [20:46<22:20, 25.79s/it]"
     ]
    },
    {
     "name": "stdout",
     "output_type": "stream",
     "text": [
      "Precision:  0.9370629370629371\n",
      "Recall:  0.8758169934640523\n",
      "Accuracy:  0.949367105960846\n",
      "Iteration 49\n",
      "18/18 [==============================] - 0s 14ms/step\n"
     ]
    },
    {
     "name": "stderr",
     "output_type": "stream",
     "text": [
      " 49%|████▉     | 49/100 [21:12<21:56, 25.81s/it]"
     ]
    },
    {
     "name": "stdout",
     "output_type": "stream",
     "text": [
      "Precision:  0.9555555555555556\n",
      "Recall:  0.8431372549019608\n",
      "Accuracy:  0.9457504749298096\n",
      "Iteration 50\n",
      "18/18 [==============================] - 0s 14ms/step\n"
     ]
    },
    {
     "name": "stderr",
     "output_type": "stream",
     "text": [
      " 50%|█████     | 50/100 [21:36<21:02, 25.25s/it]"
     ]
    },
    {
     "name": "stdout",
     "output_type": "stream",
     "text": [
      "Precision:  0.9545454545454546\n",
      "Recall:  0.8235294117647058\n",
      "Accuracy:  0.9403254985809326\n",
      "Iteration 51\n",
      "18/18 [==============================] - 0s 14ms/step\n"
     ]
    },
    {
     "name": "stderr",
     "output_type": "stream",
     "text": [
      " 51%|█████     | 51/100 [22:02<20:42, 25.36s/it]"
     ]
    },
    {
     "name": "stdout",
     "output_type": "stream",
     "text": [
      "Precision:  0.9266666666666666\n",
      "Recall:  0.9084967320261438\n",
      "Accuracy:  0.9547920227050781\n",
      "Iteration 52\n",
      "18/18 [==============================] - 0s 14ms/step\n"
     ]
    },
    {
     "name": "stderr",
     "output_type": "stream",
     "text": [
      " 52%|█████▏    | 52/100 [22:28<20:26, 25.55s/it]"
     ]
    },
    {
     "name": "stdout",
     "output_type": "stream",
     "text": [
      "Precision:  0.9432624113475178\n",
      "Recall:  0.869281045751634\n",
      "Accuracy:  0.949367105960846\n",
      "Iteration 53\n",
      "18/18 [==============================] - 0s 15ms/step\n"
     ]
    },
    {
     "name": "stderr",
     "output_type": "stream",
     "text": [
      " 53%|█████▎    | 53/100 [22:53<20:03, 25.60s/it]"
     ]
    },
    {
     "name": "stdout",
     "output_type": "stream",
     "text": [
      "Precision:  0.9235668789808917\n",
      "Recall:  0.9477124183006536\n",
      "Accuracy:  0.9638336300849915\n",
      "Iteration 54\n",
      "18/18 [==============================] - 0s 14ms/step\n"
     ]
    },
    {
     "name": "stderr",
     "output_type": "stream",
     "text": [
      " 54%|█████▍    | 54/100 [23:19<19:38, 25.61s/it]"
     ]
    },
    {
     "name": "stdout",
     "output_type": "stream",
     "text": [
      "Precision:  0.9583333333333334\n",
      "Recall:  0.9019607843137255\n",
      "Accuracy:  0.9620253443717957\n",
      "Iteration 55\n",
      "18/18 [==============================] - 0s 15ms/step\n"
     ]
    },
    {
     "name": "stderr",
     "output_type": "stream",
     "text": [
      " 55%|█████▌    | 55/100 [23:45<19:14, 25.66s/it]"
     ]
    },
    {
     "name": "stdout",
     "output_type": "stream",
     "text": [
      "Precision:  0.9767441860465116\n",
      "Recall:  0.8235294117647058\n",
      "Accuracy:  0.9457504749298096\n",
      "Iteration 56\n",
      "18/18 [==============================] - 0s 14ms/step\n"
     ]
    },
    {
     "name": "stderr",
     "output_type": "stream",
     "text": [
      " 56%|█████▌    | 56/100 [24:11<18:57, 25.85s/it]"
     ]
    },
    {
     "name": "stdout",
     "output_type": "stream",
     "text": [
      "Precision:  0.9659863945578231\n",
      "Recall:  0.9281045751633987\n",
      "Accuracy:  0.9710668921470642\n",
      "Iteration 57\n",
      "18/18 [==============================] - 0s 14ms/step\n"
     ]
    },
    {
     "name": "stderr",
     "output_type": "stream",
     "text": [
      " 57%|█████▋    | 57/100 [24:37<18:34, 25.92s/it]"
     ]
    },
    {
     "name": "stdout",
     "output_type": "stream",
     "text": [
      "Precision:  0.972027972027972\n",
      "Recall:  0.9084967320261438\n",
      "Accuracy:  0.9674502611160278\n",
      "Iteration 58\n",
      "18/18 [==============================] - 0s 14ms/step\n"
     ]
    },
    {
     "name": "stderr",
     "output_type": "stream",
     "text": [
      " 58%|█████▊    | 58/100 [25:03<18:04, 25.83s/it]"
     ]
    },
    {
     "name": "stdout",
     "output_type": "stream",
     "text": [
      "Precision:  0.959731543624161\n",
      "Recall:  0.934640522875817\n",
      "Accuracy:  0.9710668921470642\n",
      "Iteration 59\n",
      "18/18 [==============================] - 0s 14ms/step\n"
     ]
    },
    {
     "name": "stderr",
     "output_type": "stream",
     "text": [
      " 59%|█████▉    | 59/100 [25:28<17:37, 25.78s/it]"
     ]
    },
    {
     "name": "stdout",
     "output_type": "stream",
     "text": [
      "Precision:  0.9852941176470589\n",
      "Recall:  0.8758169934640523\n",
      "Accuracy:  0.9620253443717957\n",
      "Iteration 60\n",
      "18/18 [==============================] - 0s 15ms/step\n"
     ]
    },
    {
     "name": "stderr",
     "output_type": "stream",
     "text": [
      " 60%|██████    | 60/100 [25:54<17:14, 25.85s/it]"
     ]
    },
    {
     "name": "stdout",
     "output_type": "stream",
     "text": [
      "Precision:  0.984375\n",
      "Recall:  0.8235294117647058\n",
      "Accuracy:  0.9475587606430054\n",
      "Iteration 61\n",
      "18/18 [==============================] - 0s 14ms/step\n"
     ]
    },
    {
     "name": "stderr",
     "output_type": "stream",
     "text": [
      " 61%|██████    | 61/100 [26:20<16:45, 25.77s/it]"
     ]
    },
    {
     "name": "stdout",
     "output_type": "stream",
     "text": [
      "Precision:  0.94\n",
      "Recall:  0.9215686274509803\n",
      "Accuracy:  0.9620253443717957\n",
      "Iteration 62\n",
      "18/18 [==============================] - 0s 14ms/step\n"
     ]
    },
    {
     "name": "stderr",
     "output_type": "stream",
     "text": [
      " 62%|██████▏   | 62/100 [26:46<16:16, 25.69s/it]"
     ]
    },
    {
     "name": "stdout",
     "output_type": "stream",
     "text": [
      "Precision:  0.9415584415584416\n",
      "Recall:  0.9477124183006536\n",
      "Accuracy:  0.9692586064338684\n",
      "Iteration 63\n",
      "18/18 [==============================] - 0s 14ms/step\n"
     ]
    },
    {
     "name": "stderr",
     "output_type": "stream",
     "text": [
      " 63%|██████▎   | 63/100 [27:11<15:50, 25.70s/it]"
     ]
    },
    {
     "name": "stdout",
     "output_type": "stream",
     "text": [
      "Precision:  0.91875\n",
      "Recall:  0.9607843137254902\n",
      "Accuracy:  0.965641975402832\n",
      "Iteration 64\n",
      "18/18 [==============================] - 0s 14ms/step\n"
     ]
    },
    {
     "name": "stderr",
     "output_type": "stream",
     "text": [
      " 64%|██████▍   | 64/100 [27:35<15:06, 25.19s/it]"
     ]
    },
    {
     "name": "stdout",
     "output_type": "stream",
     "text": [
      "Precision:  0.9090909090909091\n",
      "Recall:  0.9803921568627451\n",
      "Accuracy:  0.9674502611160278\n",
      "Iteration 65\n",
      "18/18 [==============================] - 0s 14ms/step\n"
     ]
    },
    {
     "name": "stderr",
     "output_type": "stream",
     "text": [
      " 65%|██████▌   | 65/100 [28:01<14:48, 25.38s/it]"
     ]
    },
    {
     "name": "stdout",
     "output_type": "stream",
     "text": [
      "Precision:  0.9407894736842105\n",
      "Recall:  0.934640522875817\n",
      "Accuracy:  0.965641975402832\n",
      "Iteration 66\n",
      "18/18 [==============================] - 0s 14ms/step\n"
     ]
    },
    {
     "name": "stderr",
     "output_type": "stream",
     "text": [
      " 66%|██████▌   | 66/100 [28:28<14:37, 25.81s/it]"
     ]
    },
    {
     "name": "stdout",
     "output_type": "stream",
     "text": [
      "Precision:  0.9459459459459459\n",
      "Recall:  0.9150326797385621\n",
      "Accuracy:  0.9620253443717957\n",
      "Iteration 67\n",
      "18/18 [==============================] - 0s 14ms/step\n"
     ]
    },
    {
     "name": "stderr",
     "output_type": "stream",
     "text": [
      " 67%|██████▋   | 67/100 [28:54<14:10, 25.77s/it]"
     ]
    },
    {
     "name": "stdout",
     "output_type": "stream",
     "text": [
      "Precision:  0.9710144927536232\n",
      "Recall:  0.8758169934640523\n",
      "Accuracy:  0.9584086537361145\n",
      "Iteration 68\n",
      "18/18 [==============================] - 0s 14ms/step\n"
     ]
    },
    {
     "name": "stderr",
     "output_type": "stream",
     "text": [
      " 68%|██████▊   | 68/100 [29:18<13:29, 25.30s/it]"
     ]
    },
    {
     "name": "stdout",
     "output_type": "stream",
     "text": [
      "Precision:  0.9642857142857143\n",
      "Recall:  0.8823529411764706\n",
      "Accuracy:  0.9584086537361145\n",
      "Iteration 69\n",
      "18/18 [==============================] - 0s 14ms/step\n"
     ]
    },
    {
     "name": "stderr",
     "output_type": "stream",
     "text": [
      " 69%|██████▉   | 69/100 [29:45<13:18, 25.75s/it]"
     ]
    },
    {
     "name": "stdout",
     "output_type": "stream",
     "text": [
      "Precision:  0.9632352941176471\n",
      "Recall:  0.8562091503267973\n",
      "Accuracy:  0.9511753916740417\n",
      "Iteration 70\n",
      "18/18 [==============================] - 0s 15ms/step\n"
     ]
    },
    {
     "name": "stderr",
     "output_type": "stream",
     "text": [
      " 70%|███████   | 70/100 [30:10<12:50, 25.69s/it]"
     ]
    },
    {
     "name": "stdout",
     "output_type": "stream",
     "text": [
      "Precision:  0.9763779527559056\n",
      "Recall:  0.8104575163398693\n",
      "Accuracy:  0.9421338438987732\n",
      "Iteration 71\n",
      "18/18 [==============================] - 0s 14ms/step\n"
     ]
    },
    {
     "name": "stderr",
     "output_type": "stream",
     "text": [
      " 71%|███████   | 71/100 [30:36<12:22, 25.60s/it]"
     ]
    },
    {
     "name": "stdout",
     "output_type": "stream",
     "text": [
      "Precision:  0.9769230769230769\n",
      "Recall:  0.8300653594771242\n",
      "Accuracy:  0.9475587606430054\n",
      "Iteration 72\n",
      "18/18 [==============================] - 0s 14ms/step\n"
     ]
    },
    {
     "name": "stderr",
     "output_type": "stream",
     "text": [
      " 72%|███████▏  | 72/100 [31:01<11:55, 25.56s/it]"
     ]
    },
    {
     "name": "stdout",
     "output_type": "stream",
     "text": [
      "Precision:  0.9705882352941176\n",
      "Recall:  0.8627450980392157\n",
      "Accuracy:  0.9547920227050781\n",
      "Iteration 73\n",
      "18/18 [==============================] - 0s 15ms/step\n"
     ]
    },
    {
     "name": "stderr",
     "output_type": "stream",
     "text": [
      " 73%|███████▎  | 73/100 [31:27<11:33, 25.67s/it]"
     ]
    },
    {
     "name": "stdout",
     "output_type": "stream",
     "text": [
      "Precision:  0.9571428571428572\n",
      "Recall:  0.8758169934640523\n",
      "Accuracy:  0.9547920227050781\n",
      "Iteration 74\n",
      "18/18 [==============================] - 0s 14ms/step\n"
     ]
    },
    {
     "name": "stderr",
     "output_type": "stream",
     "text": [
      " 74%|███████▍  | 74/100 [31:53<11:07, 25.68s/it]"
     ]
    },
    {
     "name": "stdout",
     "output_type": "stream",
     "text": [
      "Precision:  0.9694656488549618\n",
      "Recall:  0.8300653594771242\n",
      "Accuracy:  0.9457504749298096\n",
      "Iteration 75\n",
      "18/18 [==============================] - 0s 14ms/step\n"
     ]
    },
    {
     "name": "stderr",
     "output_type": "stream",
     "text": [
      " 75%|███████▌  | 75/100 [32:18<10:41, 25.66s/it]"
     ]
    },
    {
     "name": "stdout",
     "output_type": "stream",
     "text": [
      "Precision:  0.9694656488549618\n",
      "Recall:  0.8300653594771242\n",
      "Accuracy:  0.9457504749298096\n",
      "Iteration 76\n",
      "18/18 [==============================] - 0s 15ms/step\n"
     ]
    },
    {
     "name": "stderr",
     "output_type": "stream",
     "text": [
      " 76%|███████▌  | 76/100 [32:44<10:18, 25.76s/it]"
     ]
    },
    {
     "name": "stdout",
     "output_type": "stream",
     "text": [
      "Precision:  0.9642857142857143\n",
      "Recall:  0.8823529411764706\n",
      "Accuracy:  0.9584086537361145\n",
      "Iteration 77\n",
      "18/18 [==============================] - 0s 14ms/step\n"
     ]
    },
    {
     "name": "stderr",
     "output_type": "stream",
     "text": [
      " 77%|███████▋  | 77/100 [33:11<09:58, 26.04s/it]"
     ]
    },
    {
     "name": "stdout",
     "output_type": "stream",
     "text": [
      "Precision:  0.9696969696969697\n",
      "Recall:  0.8366013071895425\n",
      "Accuracy:  0.9475587606430054\n",
      "Iteration 78\n",
      "18/18 [==============================] - 0s 14ms/step\n"
     ]
    },
    {
     "name": "stderr",
     "output_type": "stream",
     "text": [
      " 78%|███████▊  | 78/100 [33:37<09:35, 26.18s/it]"
     ]
    },
    {
     "name": "stdout",
     "output_type": "stream",
     "text": [
      "Precision:  0.9696969696969697\n",
      "Recall:  0.8366013071895425\n",
      "Accuracy:  0.9475587606430054\n",
      "Iteration 79\n",
      "18/18 [==============================] - 0s 14ms/step\n"
     ]
    },
    {
     "name": "stderr",
     "output_type": "stream",
     "text": [
      "/tmp/ipykernel_4048410/1919887586.py:3: RuntimeWarning: divide by zero encountered in log2\n",
      "  predictive_entropy = np.mean(-np.sum(predictions*np.log2(predictions), axis = 2), axis = 0)\n",
      "/tmp/ipykernel_4048410/1919887586.py:3: RuntimeWarning: invalid value encountered in multiply\n",
      "  predictive_entropy = np.mean(-np.sum(predictions*np.log2(predictions), axis = 2), axis = 0)\n",
      " 79%|███████▉  | 79/100 [34:03<09:07, 26.07s/it]"
     ]
    },
    {
     "name": "stdout",
     "output_type": "stream",
     "text": [
      "Precision:  0.9440559440559441\n",
      "Recall:  0.8823529411764706\n",
      "Accuracy:  0.9529837369918823\n",
      "Iteration 80\n",
      "18/18 [==============================] - 0s 14ms/step\n"
     ]
    },
    {
     "name": "stderr",
     "output_type": "stream",
     "text": [
      " 80%|████████  | 80/100 [34:29<08:40, 26.01s/it]"
     ]
    },
    {
     "name": "stdout",
     "output_type": "stream",
     "text": [
      "Precision:  0.9694656488549618\n",
      "Recall:  0.8300653594771242\n",
      "Accuracy:  0.9457504749298096\n",
      "Iteration 81\n",
      "18/18 [==============================] - 0s 15ms/step\n"
     ]
    },
    {
     "name": "stderr",
     "output_type": "stream",
     "text": [
      " 81%|████████  | 81/100 [34:55<08:10, 25.83s/it]"
     ]
    },
    {
     "name": "stdout",
     "output_type": "stream",
     "text": [
      "Precision:  0.9629629629629629\n",
      "Recall:  0.8496732026143791\n",
      "Accuracy:  0.949367105960846\n",
      "Iteration 82\n",
      "18/18 [==============================] - 0s 14ms/step\n"
     ]
    },
    {
     "name": "stderr",
     "output_type": "stream",
     "text": [
      " 82%|████████▏ | 82/100 [35:20<07:43, 25.76s/it]"
     ]
    },
    {
     "name": "stdout",
     "output_type": "stream",
     "text": [
      "Precision:  0.9763779527559056\n",
      "Recall:  0.8104575163398693\n",
      "Accuracy:  0.9421338438987732\n",
      "Iteration 83\n",
      "18/18 [==============================] - 0s 14ms/step\n"
     ]
    },
    {
     "name": "stderr",
     "output_type": "stream",
     "text": [
      "/tmp/ipykernel_4048410/1919887586.py:3: RuntimeWarning: divide by zero encountered in log2\n",
      "  predictive_entropy = np.mean(-np.sum(predictions*np.log2(predictions), axis = 2), axis = 0)\n",
      "/tmp/ipykernel_4048410/1919887586.py:3: RuntimeWarning: invalid value encountered in multiply\n",
      "  predictive_entropy = np.mean(-np.sum(predictions*np.log2(predictions), axis = 2), axis = 0)\n",
      " 83%|████████▎ | 83/100 [35:46<07:17, 25.72s/it]"
     ]
    },
    {
     "name": "stdout",
     "output_type": "stream",
     "text": [
      "Precision:  0.951048951048951\n",
      "Recall:  0.8888888888888888\n",
      "Accuracy:  0.9566003680229187\n",
      "Iteration 84\n",
      "18/18 [==============================] - 0s 14ms/step\n"
     ]
    },
    {
     "name": "stderr",
     "output_type": "stream",
     "text": [
      " 84%|████████▍ | 84/100 [36:11<06:51, 25.72s/it]"
     ]
    },
    {
     "name": "stdout",
     "output_type": "stream",
     "text": [
      "Precision:  0.9574468085106383\n",
      "Recall:  0.8823529411764706\n",
      "Accuracy:  0.9566003680229187\n",
      "Iteration 85\n",
      "18/18 [==============================] - 0s 14ms/step\n"
     ]
    },
    {
     "name": "stderr",
     "output_type": "stream",
     "text": [
      " 85%|████████▌ | 85/100 [36:37<06:24, 25.65s/it]"
     ]
    },
    {
     "name": "stdout",
     "output_type": "stream",
     "text": [
      "Precision:  0.9765625\n",
      "Recall:  0.8169934640522876\n",
      "Accuracy:  0.943942129611969\n",
      "Iteration 86\n",
      "18/18 [==============================] - 0s 14ms/step\n"
     ]
    },
    {
     "name": "stderr",
     "output_type": "stream",
     "text": [
      " 86%|████████▌ | 86/100 [37:02<05:57, 25.56s/it]"
     ]
    },
    {
     "name": "stdout",
     "output_type": "stream",
     "text": [
      "Precision:  0.9379310344827586\n",
      "Recall:  0.8888888888888888\n",
      "Accuracy:  0.9529837369918823\n",
      "Iteration 87\n",
      "18/18 [==============================] - 0s 15ms/step\n"
     ]
    },
    {
     "name": "stderr",
     "output_type": "stream",
     "text": [
      " 87%|████████▋ | 87/100 [37:28<05:32, 25.61s/it]"
     ]
    },
    {
     "name": "stdout",
     "output_type": "stream",
     "text": [
      "Precision:  0.968\n",
      "Recall:  0.7908496732026143\n",
      "Accuracy:  0.9349005222320557\n",
      "Iteration 88\n",
      "18/18 [==============================] - 0s 15ms/step\n"
     ]
    },
    {
     "name": "stderr",
     "output_type": "stream",
     "text": [
      " 88%|████████▊ | 88/100 [37:53<05:06, 25.56s/it]"
     ]
    },
    {
     "name": "stdout",
     "output_type": "stream",
     "text": [
      "Precision:  0.9375\n",
      "Recall:  0.8823529411764706\n",
      "Accuracy:  0.9511753916740417\n",
      "Iteration 89\n",
      "18/18 [==============================] - 0s 14ms/step\n"
     ]
    },
    {
     "name": "stderr",
     "output_type": "stream",
     "text": [
      " 89%|████████▉ | 89/100 [38:19<04:40, 25.48s/it]"
     ]
    },
    {
     "name": "stdout",
     "output_type": "stream",
     "text": [
      "Precision:  0.9761904761904762\n",
      "Recall:  0.803921568627451\n",
      "Accuracy:  0.9403254985809326\n",
      "Iteration 90\n",
      "18/18 [==============================] - 0s 14ms/step\n"
     ]
    },
    {
     "name": "stderr",
     "output_type": "stream",
     "text": [
      " 90%|█████████ | 90/100 [38:44<04:14, 25.50s/it]"
     ]
    },
    {
     "name": "stdout",
     "output_type": "stream",
     "text": [
      "Precision:  0.9455782312925171\n",
      "Recall:  0.9084967320261438\n",
      "Accuracy:  0.9602169990539551\n",
      "Iteration 91\n",
      "18/18 [==============================] - 0s 14ms/step\n"
     ]
    },
    {
     "name": "stderr",
     "output_type": "stream",
     "text": [
      " 91%|█████████ | 91/100 [39:10<03:48, 25.43s/it]"
     ]
    },
    {
     "name": "stdout",
     "output_type": "stream",
     "text": [
      "Precision:  0.934640522875817\n",
      "Recall:  0.934640522875817\n",
      "Accuracy:  0.9638336300849915\n",
      "Iteration 92\n",
      "18/18 [==============================] - 0s 14ms/step\n"
     ]
    },
    {
     "name": "stderr",
     "output_type": "stream",
     "text": [
      " 92%|█████████▏| 92/100 [39:35<03:23, 25.50s/it]"
     ]
    },
    {
     "name": "stdout",
     "output_type": "stream",
     "text": [
      "Precision:  0.94\n",
      "Recall:  0.9215686274509803\n",
      "Accuracy:  0.9620253443717957\n",
      "Iteration 93\n",
      "18/18 [==============================] - 0s 14ms/step\n"
     ]
    },
    {
     "name": "stderr",
     "output_type": "stream",
     "text": [
      " 93%|█████████▎| 93/100 [40:02<03:01, 25.87s/it]"
     ]
    },
    {
     "name": "stdout",
     "output_type": "stream",
     "text": [
      "Precision:  0.9645390070921985\n",
      "Recall:  0.8888888888888888\n",
      "Accuracy:  0.9602169990539551\n",
      "Iteration 94\n",
      "18/18 [==============================] - 0s 14ms/step\n"
     ]
    },
    {
     "name": "stderr",
     "output_type": "stream",
     "text": [
      " 94%|█████████▍| 94/100 [40:29<02:36, 26.13s/it]"
     ]
    },
    {
     "name": "stdout",
     "output_type": "stream",
     "text": [
      "Precision:  0.9470198675496688\n",
      "Recall:  0.934640522875817\n",
      "Accuracy:  0.9674502611160278\n",
      "Iteration 95\n",
      "18/18 [==============================] - 0s 14ms/step\n"
     ]
    },
    {
     "name": "stderr",
     "output_type": "stream",
     "text": [
      " 95%|█████████▌| 95/100 [40:55<02:10, 26.05s/it]"
     ]
    },
    {
     "name": "stdout",
     "output_type": "stream",
     "text": [
      "Precision:  0.9415584415584416\n",
      "Recall:  0.9477124183006536\n",
      "Accuracy:  0.9692586064338684\n",
      "Iteration 96\n",
      "18/18 [==============================] - 0s 14ms/step\n"
     ]
    },
    {
     "name": "stderr",
     "output_type": "stream",
     "text": [
      " 96%|█████████▌| 96/100 [41:20<01:43, 25.88s/it]"
     ]
    },
    {
     "name": "stdout",
     "output_type": "stream",
     "text": [
      "Precision:  0.958041958041958\n",
      "Recall:  0.8954248366013072\n",
      "Accuracy:  0.9602169990539551\n",
      "Iteration 97\n",
      "18/18 [==============================] - 0s 14ms/step\n"
     ]
    },
    {
     "name": "stderr",
     "output_type": "stream",
     "text": [
      " 97%|█████████▋| 97/100 [41:45<01:17, 25.74s/it]"
     ]
    },
    {
     "name": "stdout",
     "output_type": "stream",
     "text": [
      "Precision:  0.9571428571428572\n",
      "Recall:  0.8758169934640523\n",
      "Accuracy:  0.9547920227050781\n",
      "Iteration 98\n",
      "18/18 [==============================] - 0s 14ms/step\n"
     ]
    },
    {
     "name": "stderr",
     "output_type": "stream",
     "text": [
      " 98%|█████████▊| 98/100 [42:11<00:51, 25.72s/it]"
     ]
    },
    {
     "name": "stdout",
     "output_type": "stream",
     "text": [
      "Precision:  0.9411764705882353\n",
      "Recall:  0.9411764705882353\n",
      "Accuracy:  0.9674502611160278\n",
      "Iteration 99\n",
      "18/18 [==============================] - 0s 14ms/step\n"
     ]
    },
    {
     "name": "stderr",
     "output_type": "stream",
     "text": [
      " 99%|█████████▉| 99/100 [42:37<00:25, 25.62s/it]"
     ]
    },
    {
     "name": "stdout",
     "output_type": "stream",
     "text": [
      "Precision:  0.9363057324840764\n",
      "Recall:  0.9607843137254902\n",
      "Accuracy:  0.9710668921470642\n",
      "Iteration 100\n",
      "18/18 [==============================] - 0s 14ms/step\n"
     ]
    },
    {
     "name": "stderr",
     "output_type": "stream",
     "text": [
      "100%|██████████| 100/100 [43:02<00:00, 25.82s/it]"
     ]
    },
    {
     "name": "stdout",
     "output_type": "stream",
     "text": [
      "Precision:  0.9459459459459459\n",
      "Recall:  0.9150326797385621\n",
      "Accuracy:  0.9620253443717957\n"
     ]
    },
    {
     "name": "stderr",
     "output_type": "stream",
     "text": [
      "\n"
     ]
    },
    {
     "name": "stdout",
     "output_type": "stream",
     "text": [
      "Iteration 1: Test Loss = 0.3448, Test Accuracy = 0.8336, Precision = 0.7850, Recall = 0.5490\n",
      "Iteration 2: Test Loss = 0.3317, Test Accuracy = 0.8517, Precision = 0.8034, Recall = 0.6144\n",
      "Iteration 3: Test Loss = 0.3130, Test Accuracy = 0.8590, Precision = 0.7698, Recall = 0.6993\n",
      "Iteration 4: Test Loss = 0.3104, Test Accuracy = 0.8644, Precision = 0.7349, Recall = 0.7974\n",
      "Iteration 5: Test Loss = 0.3239, Test Accuracy = 0.8644, Precision = 0.7167, Recall = 0.8431\n",
      "Iteration 6: Test Loss = 0.3204, Test Accuracy = 0.8644, Precision = 0.7167, Recall = 0.8431\n",
      "Iteration 7: Test Loss = 0.2933, Test Accuracy = 0.8752, Precision = 0.7500, Recall = 0.8235\n",
      "Iteration 8: Test Loss = 0.2870, Test Accuracy = 0.8662, Precision = 0.7970, Recall = 0.6928\n",
      "Iteration 9: Test Loss = 0.2872, Test Accuracy = 0.8626, Precision = 0.8130, Recall = 0.6536\n",
      "Iteration 10: Test Loss = 0.2769, Test Accuracy = 0.8644, Precision = 0.8095, Recall = 0.6667\n",
      "Iteration 11: Test Loss = 0.2729, Test Accuracy = 0.8644, Precision = 0.8197, Recall = 0.6536\n",
      "Iteration 12: Test Loss = 0.2970, Test Accuracy = 0.8608, Precision = 0.8800, Recall = 0.5752\n",
      "Iteration 13: Test Loss = 0.2883, Test Accuracy = 0.8662, Precision = 0.8911, Recall = 0.5882\n",
      "Iteration 14: Test Loss = 0.3110, Test Accuracy = 0.8626, Precision = 0.9529, Recall = 0.5294\n",
      "Iteration 15: Test Loss = 0.2785, Test Accuracy = 0.8716, Precision = 0.9271, Recall = 0.5817\n",
      "Iteration 16: Test Loss = 0.2369, Test Accuracy = 0.8897, Precision = 0.8485, Recall = 0.7320\n",
      "Iteration 17: Test Loss = 0.2298, Test Accuracy = 0.8951, Precision = 0.8740, Recall = 0.7255\n",
      "Iteration 18: Test Loss = 0.2314, Test Accuracy = 0.8933, Precision = 0.9123, Recall = 0.6797\n",
      "Iteration 19: Test Loss = 0.2031, Test Accuracy = 0.9186, Precision = 0.9030, Recall = 0.7908\n",
      "Iteration 20: Test Loss = 0.1962, Test Accuracy = 0.9277, Precision = 0.8599, Recall = 0.8824\n",
      "Iteration 21: Test Loss = 0.1885, Test Accuracy = 0.9277, Precision = 0.8951, Recall = 0.8366\n",
      "Iteration 22: Test Loss = 0.1839, Test Accuracy = 0.9277, Precision = 0.8951, Recall = 0.8366\n",
      "Iteration 23: Test Loss = 0.2051, Test Accuracy = 0.9132, Precision = 0.7933, Recall = 0.9281\n",
      "Iteration 24: Test Loss = 0.1896, Test Accuracy = 0.9204, Precision = 0.8303, Recall = 0.8954\n",
      "Iteration 25: Test Loss = 0.1812, Test Accuracy = 0.9277, Precision = 0.9007, Recall = 0.8301\n",
      "Iteration 26: Test Loss = 0.1792, Test Accuracy = 0.9241, Precision = 0.8627, Recall = 0.8627\n",
      "Iteration 27: Test Loss = 0.1764, Test Accuracy = 0.9222, Precision = 0.8526, Recall = 0.8693\n",
      "Iteration 28: Test Loss = 0.1772, Test Accuracy = 0.9222, Precision = 0.9044, Recall = 0.8039\n",
      "Iteration 29: Test Loss = 0.1976, Test Accuracy = 0.9241, Precision = 0.9664, Recall = 0.7516\n",
      "Iteration 30: Test Loss = 0.2097, Test Accuracy = 0.9132, Precision = 0.9730, Recall = 0.7059\n",
      "Iteration 31: Test Loss = 0.2155, Test Accuracy = 0.9096, Precision = 0.9725, Recall = 0.6928\n",
      "Iteration 32: Test Loss = 0.1836, Test Accuracy = 0.9259, Precision = 0.9308, Recall = 0.7908\n",
      "Iteration 33: Test Loss = 0.1646, Test Accuracy = 0.9222, Precision = 0.8667, Recall = 0.8497\n",
      "Iteration 34: Test Loss = 0.1643, Test Accuracy = 0.9295, Precision = 0.9130, Recall = 0.8235\n",
      "Iteration 35: Test Loss = 0.1582, Test Accuracy = 0.9313, Precision = 0.9021, Recall = 0.8431\n",
      "Iteration 36: Test Loss = 0.1584, Test Accuracy = 0.9349, Precision = 0.9209, Recall = 0.8366\n",
      "Iteration 37: Test Loss = 0.1603, Test Accuracy = 0.9313, Precision = 0.9197, Recall = 0.8235\n",
      "Iteration 38: Test Loss = 0.1542, Test Accuracy = 0.9313, Precision = 0.8966, Recall = 0.8497\n",
      "Iteration 39: Test Loss = 0.1552, Test Accuracy = 0.9331, Precision = 0.9085, Recall = 0.8431\n",
      "Iteration 40: Test Loss = 0.1860, Test Accuracy = 0.9186, Precision = 0.9500, Recall = 0.7451\n",
      "Iteration 41: Test Loss = 0.1674, Test Accuracy = 0.9222, Precision = 0.9297, Recall = 0.7778\n",
      "Iteration 42: Test Loss = 0.1507, Test Accuracy = 0.9458, Precision = 0.9073, Recall = 0.8954\n",
      "Iteration 43: Test Loss = 0.1528, Test Accuracy = 0.9458, Precision = 0.8820, Recall = 0.9281\n",
      "Iteration 44: Test Loss = 0.1405, Test Accuracy = 0.9439, Precision = 0.9178, Recall = 0.8758\n",
      "Iteration 45: Test Loss = 0.1412, Test Accuracy = 0.9385, Precision = 0.9343, Recall = 0.8366\n",
      "Iteration 46: Test Loss = 0.1327, Test Accuracy = 0.9439, Precision = 0.9296, Recall = 0.8627\n",
      "Iteration 47: Test Loss = 0.1475, Test Accuracy = 0.9403, Precision = 0.9545, Recall = 0.8235\n",
      "Iteration 48: Test Loss = 0.1227, Test Accuracy = 0.9494, Precision = 0.9371, Recall = 0.8758\n",
      "Iteration 49: Test Loss = 0.1297, Test Accuracy = 0.9458, Precision = 0.9556, Recall = 0.8431\n",
      "Iteration 50: Test Loss = 0.1333, Test Accuracy = 0.9403, Precision = 0.9545, Recall = 0.8235\n",
      "Iteration 51: Test Loss = 0.1168, Test Accuracy = 0.9548, Precision = 0.9267, Recall = 0.9085\n",
      "Iteration 52: Test Loss = 0.1209, Test Accuracy = 0.9494, Precision = 0.9433, Recall = 0.8693\n",
      "Iteration 53: Test Loss = 0.1088, Test Accuracy = 0.9638, Precision = 0.9236, Recall = 0.9477\n",
      "Iteration 54: Test Loss = 0.1082, Test Accuracy = 0.9620, Precision = 0.9583, Recall = 0.9020\n",
      "Iteration 55: Test Loss = 0.1239, Test Accuracy = 0.9458, Precision = 0.9767, Recall = 0.8235\n",
      "Iteration 56: Test Loss = 0.1030, Test Accuracy = 0.9711, Precision = 0.9660, Recall = 0.9281\n",
      "Iteration 57: Test Loss = 0.1054, Test Accuracy = 0.9675, Precision = 0.9720, Recall = 0.9085\n",
      "Iteration 58: Test Loss = 0.0977, Test Accuracy = 0.9711, Precision = 0.9597, Recall = 0.9346\n",
      "Iteration 59: Test Loss = 0.1095, Test Accuracy = 0.9620, Precision = 0.9853, Recall = 0.8758\n",
      "Iteration 60: Test Loss = 0.1180, Test Accuracy = 0.9476, Precision = 0.9844, Recall = 0.8235\n",
      "Iteration 61: Test Loss = 0.1004, Test Accuracy = 0.9620, Precision = 0.9400, Recall = 0.9216\n",
      "Iteration 62: Test Loss = 0.0956, Test Accuracy = 0.9693, Precision = 0.9416, Recall = 0.9477\n",
      "Iteration 63: Test Loss = 0.0958, Test Accuracy = 0.9656, Precision = 0.9187, Recall = 0.9608\n",
      "Iteration 64: Test Loss = 0.1048, Test Accuracy = 0.9675, Precision = 0.9091, Recall = 0.9804\n",
      "Iteration 65: Test Loss = 0.0981, Test Accuracy = 0.9656, Precision = 0.9408, Recall = 0.9346\n",
      "Iteration 66: Test Loss = 0.1015, Test Accuracy = 0.9620, Precision = 0.9459, Recall = 0.9150\n",
      "Iteration 67: Test Loss = 0.1086, Test Accuracy = 0.9584, Precision = 0.9710, Recall = 0.8758\n",
      "Iteration 68: Test Loss = 0.1078, Test Accuracy = 0.9584, Precision = 0.9643, Recall = 0.8824\n",
      "Iteration 69: Test Loss = 0.1133, Test Accuracy = 0.9512, Precision = 0.9632, Recall = 0.8562\n",
      "Iteration 70: Test Loss = 0.1293, Test Accuracy = 0.9421, Precision = 0.9764, Recall = 0.8105\n",
      "Iteration 71: Test Loss = 0.1245, Test Accuracy = 0.9476, Precision = 0.9769, Recall = 0.8301\n",
      "Iteration 72: Test Loss = 0.1078, Test Accuracy = 0.9548, Precision = 0.9706, Recall = 0.8627\n",
      "Iteration 73: Test Loss = 0.1052, Test Accuracy = 0.9548, Precision = 0.9571, Recall = 0.8758\n",
      "Iteration 74: Test Loss = 0.1203, Test Accuracy = 0.9458, Precision = 0.9695, Recall = 0.8301\n",
      "Iteration 75: Test Loss = 0.1270, Test Accuracy = 0.9458, Precision = 0.9695, Recall = 0.8301\n",
      "Iteration 76: Test Loss = 0.1007, Test Accuracy = 0.9584, Precision = 0.9643, Recall = 0.8824\n",
      "Iteration 77: Test Loss = 0.1082, Test Accuracy = 0.9476, Precision = 0.9697, Recall = 0.8366\n",
      "Iteration 78: Test Loss = 0.1141, Test Accuracy = 0.9476, Precision = 0.9697, Recall = 0.8366\n",
      "Iteration 79: Test Loss = 0.1010, Test Accuracy = 0.9530, Precision = 0.9441, Recall = 0.8824\n",
      "Iteration 80: Test Loss = 0.1167, Test Accuracy = 0.9458, Precision = 0.9695, Recall = 0.8301\n",
      "Iteration 81: Test Loss = 0.1140, Test Accuracy = 0.9494, Precision = 0.9630, Recall = 0.8497\n",
      "Iteration 82: Test Loss = 0.1281, Test Accuracy = 0.9421, Precision = 0.9764, Recall = 0.8105\n",
      "Iteration 83: Test Loss = 0.0974, Test Accuracy = 0.9566, Precision = 0.9510, Recall = 0.8889\n",
      "Iteration 84: Test Loss = 0.0996, Test Accuracy = 0.9566, Precision = 0.9574, Recall = 0.8824\n",
      "Iteration 85: Test Loss = 0.1226, Test Accuracy = 0.9439, Precision = 0.9766, Recall = 0.8170\n",
      "Iteration 86: Test Loss = 0.1053, Test Accuracy = 0.9530, Precision = 0.9379, Recall = 0.8889\n",
      "Iteration 87: Test Loss = 0.1314, Test Accuracy = 0.9349, Precision = 0.9680, Recall = 0.7908\n",
      "Iteration 88: Test Loss = 0.1048, Test Accuracy = 0.9512, Precision = 0.9375, Recall = 0.8824\n",
      "Iteration 89: Test Loss = 0.1210, Test Accuracy = 0.9403, Precision = 0.9762, Recall = 0.8039\n",
      "Iteration 90: Test Loss = 0.0932, Test Accuracy = 0.9602, Precision = 0.9456, Recall = 0.9085\n",
      "Iteration 91: Test Loss = 0.0866, Test Accuracy = 0.9638, Precision = 0.9346, Recall = 0.9346\n",
      "Iteration 92: Test Loss = 0.0895, Test Accuracy = 0.9620, Precision = 0.9400, Recall = 0.9216\n",
      "Iteration 93: Test Loss = 0.0977, Test Accuracy = 0.9602, Precision = 0.9645, Recall = 0.8889\n",
      "Iteration 94: Test Loss = 0.0818, Test Accuracy = 0.9675, Precision = 0.9470, Recall = 0.9346\n",
      "Iteration 95: Test Loss = 0.0809, Test Accuracy = 0.9693, Precision = 0.9416, Recall = 0.9477\n",
      "Iteration 96: Test Loss = 0.0870, Test Accuracy = 0.9602, Precision = 0.9580, Recall = 0.8954\n",
      "Iteration 97: Test Loss = 0.0918, Test Accuracy = 0.9548, Precision = 0.9571, Recall = 0.8758\n",
      "Iteration 98: Test Loss = 0.0813, Test Accuracy = 0.9675, Precision = 0.9412, Recall = 0.9412\n",
      "Iteration 99: Test Loss = 0.0820, Test Accuracy = 0.9711, Precision = 0.9363, Recall = 0.9608\n",
      "Iteration 100: Test Loss = 0.0861, Test Accuracy = 0.9620, Precision = 0.9459, Recall = 0.9150\n"
     ]
    },
    {
     "ename": "",
     "evalue": "",
     "output_type": "error",
     "traceback": [
      "\u001b[1;31mThe Kernel crashed while executing code in the the current cell or a previous cell. Please review the code in the cell(s) to identify a possible cause of the failure. Click <a href='https://aka.ms/vscodeJupyterKernelCrash'>here</a> for more info. View Jupyter <a href='command:jupyter.viewOutput'>log</a> for further details."
     ]
    }
   ],
   "source": [
    "test_loss_list, test_accuracy_list, precision_list, recall_list, f1_score_list = al_loop('bald','india')"
   ]
  }
 ],
 "metadata": {
  "kernelspec": {
   "display_name": "Python 3",
   "language": "python",
   "name": "python3"
  },
  "language_info": {
   "codemirror_mode": {
    "name": "ipython",
    "version": 3
   },
   "file_extension": ".py",
   "mimetype": "text/x-python",
   "name": "python",
   "nbconvert_exporter": "python",
   "pygments_lexer": "ipython3",
   "version": "3.10.6"
  },
  "orig_nbformat": 4
 },
 "nbformat": 4,
 "nbformat_minor": 2
}
